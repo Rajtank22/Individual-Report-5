{
  "nbformat": 4,
  "nbformat_minor": 0,
  "metadata": {
    "colab": {
      "provenance": [],
      "authorship_tag": "ABX9TyNlBcQFv5zvAx1U8Y20AACC",
      "include_colab_link": true
    },
    "kernelspec": {
      "name": "python3",
      "display_name": "Python 3"
    },
    "language_info": {
      "name": "python"
    }
  },
  "cells": [
    {
      "cell_type": "markdown",
      "metadata": {
        "id": "view-in-github",
        "colab_type": "text"
      },
      "source": [
        "<a href=\"https://colab.research.google.com/github/Rajtank22/Individual-Report-5/blob/main/Untitled5.ipynb\" target=\"_parent\"><img src=\"https://colab.research.google.com/assets/colab-badge.svg\" alt=\"Open In Colab\"/></a>"
      ]
    },
    {
      "cell_type": "code",
      "execution_count": 1,
      "metadata": {
        "id": "Wju5zx6esSEu"
      },
      "outputs": [],
      "source": [
        "!apt-get install openjdk-8-jdk-headless -qq > /dev/null\n",
        "\n",
        "# install spark (change the version number if needed)\n",
        "!wget -q https://archive.apache.org/dist/spark/spark-3.0.0/spark-3.0.0-bin-hadoop3.2.tgz\n",
        "\n",
        "# unzip the spark file to the current folder\n",
        "!tar xf spark-3.0.0-bin-hadoop3.2.tgz\n",
        "\n",
        "# set your spark folder to your system path environment. \n",
        "import os\n",
        "os.environ[\"JAVA_HOME\"] = \"/usr/lib/jvm/java-8-openjdk-amd64\"\n",
        "os.environ[\"SPARK_HOME\"] = \"/content/spark-3.0.0-bin-hadoop3.2\"\n",
        "\n",
        "\n",
        "# install findspark using pip\n",
        "!pip install -q findspark"
      ]
    },
    {
      "cell_type": "code",
      "source": [
        "#importing necessary libraries\n",
        "#importing the necessary modules\n",
        "from pyspark.ml.feature import VectorAssembler\n",
        "from pyspark.ml.regression import LinearRegression\n",
        "from pyspark.ml.feature import VectorAssembler,StandardScaler,PCA\n",
        "import numpy as np\n",
        "import pandas as pd\n",
        "import matplotlib.pyplot as plt\n",
        "from pyspark.ml.evaluation import RegressionEvaluator\n",
        "from pyspark.mllib.stat import Statistics\n",
        "import seaborn as sns"
      ],
      "metadata": {
        "id": "P6wyom6WxYYB"
      },
      "execution_count": 25,
      "outputs": []
    },
    {
      "cell_type": "code",
      "source": [
        "#creating a session\n",
        "import findspark\n",
        "findspark.init()\n",
        "from pyspark.sql import SparkSession\n",
        "spark = SparkSession.builder.master(\"local[*]\").getOrCreate()"
      ],
      "metadata": {
        "id": "P31v_lFzsVC2"
      },
      "execution_count": 2,
      "outputs": []
    },
    {
      "cell_type": "code",
      "source": [
        "#loading the data\n",
        "## load Your data\n",
        "from google.colab import files\n",
        "files.upload()"
      ],
      "metadata": {
        "colab": {
          "base_uri": "https://localhost:8080/",
          "height": 128
        },
        "id": "qaZUHgortV_Z",
        "outputId": "609e8d6b-696c-4906-88fe-2da16388a2e6"
      },
      "execution_count": 3,
      "outputs": [
        {
          "output_type": "display_data",
          "data": {
            "text/plain": [
              "<IPython.core.display.HTML object>"
            ],
            "text/html": [
              "\n",
              "     <input type=\"file\" id=\"files-a7327778-a751-44a1-a62b-003efdf9c1c2\" name=\"files[]\" multiple disabled\n",
              "        style=\"border:none\" />\n",
              "     <output id=\"result-a7327778-a751-44a1-a62b-003efdf9c1c2\">\n",
              "      Upload widget is only available when the cell has been executed in the\n",
              "      current browser session. Please rerun this cell to enable.\n",
              "      </output>\n",
              "      <script>// Copyright 2017 Google LLC\n",
              "//\n",
              "// Licensed under the Apache License, Version 2.0 (the \"License\");\n",
              "// you may not use this file except in compliance with the License.\n",
              "// You may obtain a copy of the License at\n",
              "//\n",
              "//      http://www.apache.org/licenses/LICENSE-2.0\n",
              "//\n",
              "// Unless required by applicable law or agreed to in writing, software\n",
              "// distributed under the License is distributed on an \"AS IS\" BASIS,\n",
              "// WITHOUT WARRANTIES OR CONDITIONS OF ANY KIND, either express or implied.\n",
              "// See the License for the specific language governing permissions and\n",
              "// limitations under the License.\n",
              "\n",
              "/**\n",
              " * @fileoverview Helpers for google.colab Python module.\n",
              " */\n",
              "(function(scope) {\n",
              "function span(text, styleAttributes = {}) {\n",
              "  const element = document.createElement('span');\n",
              "  element.textContent = text;\n",
              "  for (const key of Object.keys(styleAttributes)) {\n",
              "    element.style[key] = styleAttributes[key];\n",
              "  }\n",
              "  return element;\n",
              "}\n",
              "\n",
              "// Max number of bytes which will be uploaded at a time.\n",
              "const MAX_PAYLOAD_SIZE = 100 * 1024;\n",
              "\n",
              "function _uploadFiles(inputId, outputId) {\n",
              "  const steps = uploadFilesStep(inputId, outputId);\n",
              "  const outputElement = document.getElementById(outputId);\n",
              "  // Cache steps on the outputElement to make it available for the next call\n",
              "  // to uploadFilesContinue from Python.\n",
              "  outputElement.steps = steps;\n",
              "\n",
              "  return _uploadFilesContinue(outputId);\n",
              "}\n",
              "\n",
              "// This is roughly an async generator (not supported in the browser yet),\n",
              "// where there are multiple asynchronous steps and the Python side is going\n",
              "// to poll for completion of each step.\n",
              "// This uses a Promise to block the python side on completion of each step,\n",
              "// then passes the result of the previous step as the input to the next step.\n",
              "function _uploadFilesContinue(outputId) {\n",
              "  const outputElement = document.getElementById(outputId);\n",
              "  const steps = outputElement.steps;\n",
              "\n",
              "  const next = steps.next(outputElement.lastPromiseValue);\n",
              "  return Promise.resolve(next.value.promise).then((value) => {\n",
              "    // Cache the last promise value to make it available to the next\n",
              "    // step of the generator.\n",
              "    outputElement.lastPromiseValue = value;\n",
              "    return next.value.response;\n",
              "  });\n",
              "}\n",
              "\n",
              "/**\n",
              " * Generator function which is called between each async step of the upload\n",
              " * process.\n",
              " * @param {string} inputId Element ID of the input file picker element.\n",
              " * @param {string} outputId Element ID of the output display.\n",
              " * @return {!Iterable<!Object>} Iterable of next steps.\n",
              " */\n",
              "function* uploadFilesStep(inputId, outputId) {\n",
              "  const inputElement = document.getElementById(inputId);\n",
              "  inputElement.disabled = false;\n",
              "\n",
              "  const outputElement = document.getElementById(outputId);\n",
              "  outputElement.innerHTML = '';\n",
              "\n",
              "  const pickedPromise = new Promise((resolve) => {\n",
              "    inputElement.addEventListener('change', (e) => {\n",
              "      resolve(e.target.files);\n",
              "    });\n",
              "  });\n",
              "\n",
              "  const cancel = document.createElement('button');\n",
              "  inputElement.parentElement.appendChild(cancel);\n",
              "  cancel.textContent = 'Cancel upload';\n",
              "  const cancelPromise = new Promise((resolve) => {\n",
              "    cancel.onclick = () => {\n",
              "      resolve(null);\n",
              "    };\n",
              "  });\n",
              "\n",
              "  // Wait for the user to pick the files.\n",
              "  const files = yield {\n",
              "    promise: Promise.race([pickedPromise, cancelPromise]),\n",
              "    response: {\n",
              "      action: 'starting',\n",
              "    }\n",
              "  };\n",
              "\n",
              "  cancel.remove();\n",
              "\n",
              "  // Disable the input element since further picks are not allowed.\n",
              "  inputElement.disabled = true;\n",
              "\n",
              "  if (!files) {\n",
              "    return {\n",
              "      response: {\n",
              "        action: 'complete',\n",
              "      }\n",
              "    };\n",
              "  }\n",
              "\n",
              "  for (const file of files) {\n",
              "    const li = document.createElement('li');\n",
              "    li.append(span(file.name, {fontWeight: 'bold'}));\n",
              "    li.append(span(\n",
              "        `(${file.type || 'n/a'}) - ${file.size} bytes, ` +\n",
              "        `last modified: ${\n",
              "            file.lastModifiedDate ? file.lastModifiedDate.toLocaleDateString() :\n",
              "                                    'n/a'} - `));\n",
              "    const percent = span('0% done');\n",
              "    li.appendChild(percent);\n",
              "\n",
              "    outputElement.appendChild(li);\n",
              "\n",
              "    const fileDataPromise = new Promise((resolve) => {\n",
              "      const reader = new FileReader();\n",
              "      reader.onload = (e) => {\n",
              "        resolve(e.target.result);\n",
              "      };\n",
              "      reader.readAsArrayBuffer(file);\n",
              "    });\n",
              "    // Wait for the data to be ready.\n",
              "    let fileData = yield {\n",
              "      promise: fileDataPromise,\n",
              "      response: {\n",
              "        action: 'continue',\n",
              "      }\n",
              "    };\n",
              "\n",
              "    // Use a chunked sending to avoid message size limits. See b/62115660.\n",
              "    let position = 0;\n",
              "    do {\n",
              "      const length = Math.min(fileData.byteLength - position, MAX_PAYLOAD_SIZE);\n",
              "      const chunk = new Uint8Array(fileData, position, length);\n",
              "      position += length;\n",
              "\n",
              "      const base64 = btoa(String.fromCharCode.apply(null, chunk));\n",
              "      yield {\n",
              "        response: {\n",
              "          action: 'append',\n",
              "          file: file.name,\n",
              "          data: base64,\n",
              "        },\n",
              "      };\n",
              "\n",
              "      let percentDone = fileData.byteLength === 0 ?\n",
              "          100 :\n",
              "          Math.round((position / fileData.byteLength) * 100);\n",
              "      percent.textContent = `${percentDone}% done`;\n",
              "\n",
              "    } while (position < fileData.byteLength);\n",
              "  }\n",
              "\n",
              "  // All done.\n",
              "  yield {\n",
              "    response: {\n",
              "      action: 'complete',\n",
              "    }\n",
              "  };\n",
              "}\n",
              "\n",
              "scope.google = scope.google || {};\n",
              "scope.google.colab = scope.google.colab || {};\n",
              "scope.google.colab._files = {\n",
              "  _uploadFiles,\n",
              "  _uploadFilesContinue,\n",
              "};\n",
              "})(self);\n",
              "</script> "
            ]
          },
          "metadata": {}
        },
        {
          "output_type": "stream",
          "name": "stdout",
          "text": [
            "Saving Admission_Predict.csv to Admission_Predict.csv\n"
          ]
        },
        {
          "output_type": "execute_result",
          "data": {
            "text/plain": [
              "{'Admission_Predict.csv': b'Serial No.,GRE Score,TOEFL Score,University Rating,SOP,LOR ,CGPA,Research,Chance of Admit \\r\\n1,337,118,4,4.5,4.5,9.65,1,0.92\\r\\n2,324,107,4,4,4.5,8.87,1,0.76\\r\\n3,316,104,3,3,3.5,8,1,0.72\\r\\n4,322,110,3,3.5,2.5,8.67,1,0.8\\r\\n5,314,103,2,2,3,8.21,0,0.65\\r\\n6,330,115,5,4.5,3,9.34,1,0.9\\r\\n7,321,109,3,3,4,8.2,1,0.75\\r\\n8,308,101,2,3,4,7.9,0,0.68\\r\\n9,302,102,1,2,1.5,8,0,0.5\\r\\n10,323,108,3,3.5,3,8.6,0,0.45\\r\\n11,325,106,3,3.5,4,8.4,1,0.52\\r\\n12,327,111,4,4,4.5,9,1,0.84\\r\\n13,328,112,4,4,4.5,9.1,1,0.78\\r\\n14,307,109,3,4,3,8,1,0.62\\r\\n15,311,104,3,3.5,2,8.2,1,0.61\\r\\n16,314,105,3,3.5,2.5,8.3,0,0.54\\r\\n17,317,107,3,4,3,8.7,0,0.66\\r\\n18,319,106,3,4,3,8,1,0.65\\r\\n19,318,110,3,4,3,8.8,0,0.63\\r\\n20,303,102,3,3.5,3,8.5,0,0.62\\r\\n21,312,107,3,3,2,7.9,1,0.64\\r\\n22,325,114,4,3,2,8.4,0,0.7\\r\\n23,328,116,5,5,5,9.5,1,0.94\\r\\n24,334,119,5,5,4.5,9.7,1,0.95\\r\\n25,336,119,5,4,3.5,9.8,1,0.97\\r\\n26,340,120,5,4.5,4.5,9.6,1,0.94\\r\\n27,322,109,5,4.5,3.5,8.8,0,0.76\\r\\n28,298,98,2,1.5,2.5,7.5,1,0.44\\r\\n29,295,93,1,2,2,7.2,0,0.46\\r\\n30,310,99,2,1.5,2,7.3,0,0.54\\r\\n31,300,97,2,3,3,8.1,1,0.65\\r\\n32,327,103,3,4,4,8.3,1,0.74\\r\\n33,338,118,4,3,4.5,9.4,1,0.91\\r\\n34,340,114,5,4,4,9.6,1,0.9\\r\\n35,331,112,5,4,5,9.8,1,0.94\\r\\n36,320,110,5,5,5,9.2,1,0.88\\r\\n37,299,106,2,4,4,8.4,0,0.64\\r\\n38,300,105,1,1,2,7.8,0,0.58\\r\\n39,304,105,1,3,1.5,7.5,0,0.52\\r\\n40,307,108,2,4,3.5,7.7,0,0.48\\r\\n41,308,110,3,3.5,3,8,1,0.46\\r\\n42,316,105,2,2.5,2.5,8.2,1,0.49\\r\\n43,313,107,2,2.5,2,8.5,1,0.53\\r\\n44,332,117,4,4.5,4,9.1,0,0.87\\r\\n45,326,113,5,4.5,4,9.4,1,0.91\\r\\n46,322,110,5,5,4,9.1,1,0.88\\r\\n47,329,114,5,4,5,9.3,1,0.86\\r\\n48,339,119,5,4.5,4,9.7,0,0.89\\r\\n49,321,110,3,3.5,5,8.85,1,0.82\\r\\n50,327,111,4,3,4,8.4,1,0.78\\r\\n51,313,98,3,2.5,4.5,8.3,1,0.76\\r\\n52,312,100,2,1.5,3.5,7.9,1,0.56\\r\\n53,334,116,4,4,3,8,1,0.78\\r\\n54,324,112,4,4,2.5,8.1,1,0.72\\r\\n55,322,110,3,3,3.5,8,0,0.7\\r\\n56,320,103,3,3,3,7.7,0,0.64\\r\\n57,316,102,3,2,3,7.4,0,0.64\\r\\n58,298,99,2,4,2,7.6,0,0.46\\r\\n59,300,99,1,3,2,6.8,1,0.36\\r\\n60,311,104,2,2,2,8.3,0,0.42\\r\\n61,309,100,2,3,3,8.1,0,0.48\\r\\n62,307,101,3,4,3,8.2,0,0.47\\r\\n63,304,105,2,3,3,8.2,1,0.54\\r\\n64,315,107,2,4,3,8.5,1,0.56\\r\\n65,325,111,3,3,3.5,8.7,0,0.52\\r\\n66,325,112,4,3.5,3.5,8.92,0,0.55\\r\\n67,327,114,3,3,3,9.02,0,0.61\\r\\n68,316,107,2,3.5,3.5,8.64,1,0.57\\r\\n69,318,109,3,3.5,4,9.22,1,0.68\\r\\n70,328,115,4,4.5,4,9.16,1,0.78\\r\\n71,332,118,5,5,5,9.64,1,0.94\\r\\n72,336,112,5,5,5,9.76,1,0.96\\r\\n73,321,111,5,5,5,9.45,1,0.93\\r\\n74,314,108,4,4.5,4,9.04,1,0.84\\r\\n75,314,106,3,3,5,8.9,0,0.74\\r\\n76,329,114,2,2,4,8.56,1,0.72\\r\\n77,327,112,3,3,3,8.72,1,0.74\\r\\n78,301,99,2,3,2,8.22,0,0.64\\r\\n79,296,95,2,3,2,7.54,1,0.44\\r\\n80,294,93,1,1.5,2,7.36,0,0.46\\r\\n81,312,105,3,2,3,8.02,1,0.5\\r\\n82,340,120,4,5,5,9.5,1,0.96\\r\\n83,320,110,5,5,4.5,9.22,1,0.92\\r\\n84,322,115,5,4,4.5,9.36,1,0.92\\r\\n85,340,115,5,4.5,4.5,9.45,1,0.94\\r\\n86,319,103,4,4.5,3.5,8.66,0,0.76\\r\\n87,315,106,3,4.5,3.5,8.42,0,0.72\\r\\n88,317,107,2,3.5,3,8.28,0,0.66\\r\\n89,314,108,3,4.5,3.5,8.14,0,0.64\\r\\n90,316,109,4,4.5,3.5,8.76,1,0.74\\r\\n91,318,106,2,4,4,7.92,1,0.64\\r\\n92,299,97,3,5,3.5,7.66,0,0.38\\r\\n93,298,98,2,4,3,8.03,0,0.34\\r\\n94,301,97,2,3,3,7.88,1,0.44\\r\\n95,303,99,3,2,2.5,7.66,0,0.36\\r\\n96,304,100,4,1.5,2.5,7.84,0,0.42\\r\\n97,306,100,2,3,3,8,0,0.48\\r\\n98,331,120,3,4,4,8.96,1,0.86\\r\\n99,332,119,4,5,4.5,9.24,1,0.9\\r\\n100,323,113,3,4,4,8.88,1,0.79\\r\\n101,322,107,3,3.5,3.5,8.46,1,0.71\\r\\n102,312,105,2,2.5,3,8.12,0,0.64\\r\\n103,314,106,2,4,3.5,8.25,0,0.62\\r\\n104,317,104,2,4.5,4,8.47,0,0.57\\r\\n105,326,112,3,3.5,3,9.05,1,0.74\\r\\n106,316,110,3,4,4.5,8.78,1,0.69\\r\\n107,329,111,4,4.5,4.5,9.18,1,0.87\\r\\n108,338,117,4,3.5,4.5,9.46,1,0.91\\r\\n109,331,116,5,5,5,9.38,1,0.93\\r\\n110,304,103,5,5,4,8.64,0,0.68\\r\\n111,305,108,5,3,3,8.48,0,0.61\\r\\n112,321,109,4,4,4,8.68,1,0.69\\r\\n113,301,107,3,3.5,3.5,8.34,1,0.62\\r\\n114,320,110,2,4,3.5,8.56,0,0.72\\r\\n115,311,105,3,3.5,3,8.45,1,0.59\\r\\n116,310,106,4,4.5,4.5,9.04,1,0.66\\r\\n117,299,102,3,4,3.5,8.62,0,0.56\\r\\n118,290,104,4,2,2.5,7.46,0,0.45\\r\\n119,296,99,2,3,3.5,7.28,0,0.47\\r\\n120,327,104,5,3,3.5,8.84,1,0.71\\r\\n121,335,117,5,5,5,9.56,1,0.94\\r\\n122,334,119,5,4.5,4.5,9.48,1,0.94\\r\\n123,310,106,4,1.5,2.5,8.36,0,0.57\\r\\n124,308,108,3,3.5,3.5,8.22,0,0.61\\r\\n125,301,106,4,2.5,3,8.47,0,0.57\\r\\n126,300,100,3,2,3,8.66,1,0.64\\r\\n127,323,113,3,4,3,9.32,1,0.85\\r\\n128,319,112,3,2.5,2,8.71,1,0.78\\r\\n129,326,112,3,3.5,3,9.1,1,0.84\\r\\n130,333,118,5,5,5,9.35,1,0.92\\r\\n131,339,114,5,4,4.5,9.76,1,0.96\\r\\n132,303,105,5,5,4.5,8.65,0,0.77\\r\\n133,309,105,5,3.5,3.5,8.56,0,0.71\\r\\n134,323,112,5,4,4.5,8.78,0,0.79\\r\\n135,333,113,5,4,4,9.28,1,0.89\\r\\n136,314,109,4,3.5,4,8.77,1,0.82\\r\\n137,312,103,3,5,4,8.45,0,0.76\\r\\n138,316,100,2,1.5,3,8.16,1,0.71\\r\\n139,326,116,2,4.5,3,9.08,1,0.8\\r\\n140,318,109,1,3.5,3.5,9.12,0,0.78\\r\\n141,329,110,2,4,3,9.15,1,0.84\\r\\n142,332,118,2,4.5,3.5,9.36,1,0.9\\r\\n143,331,115,5,4,3.5,9.44,1,0.92\\r\\n144,340,120,4,4.5,4,9.92,1,0.97\\r\\n145,325,112,2,3,3.5,8.96,1,0.8\\r\\n146,320,113,2,2,2.5,8.64,1,0.81\\r\\n147,315,105,3,2,2.5,8.48,0,0.75\\r\\n148,326,114,3,3,3,9.11,1,0.83\\r\\n149,339,116,4,4,3.5,9.8,1,0.96\\r\\n150,311,106,2,3.5,3,8.26,1,0.79\\r\\n151,334,114,4,4,4,9.43,1,0.93\\r\\n152,332,116,5,5,5,9.28,1,0.94\\r\\n153,321,112,5,5,5,9.06,1,0.86\\r\\n154,324,105,3,3,4,8.75,0,0.79\\r\\n155,326,108,3,3,3.5,8.89,0,0.8\\r\\n156,312,109,3,3,3,8.69,0,0.77\\r\\n157,315,105,3,2,2.5,8.34,0,0.7\\r\\n158,309,104,2,2,2.5,8.26,0,0.65\\r\\n159,306,106,2,2,2.5,8.14,0,0.61\\r\\n160,297,100,1,1.5,2,7.9,0,0.52\\r\\n161,315,103,1,1.5,2,7.86,0,0.57\\r\\n162,298,99,1,1.5,3,7.46,0,0.53\\r\\n163,318,109,3,3,3,8.5,0,0.67\\r\\n164,317,105,3,3.5,3,8.56,0,0.68\\r\\n165,329,111,4,4.5,4,9.01,1,0.81\\r\\n166,322,110,5,4.5,4,8.97,0,0.78\\r\\n167,302,102,3,3.5,5,8.33,0,0.65\\r\\n168,313,102,3,2,3,8.27,0,0.64\\r\\n169,293,97,2,2,4,7.8,1,0.64\\r\\n170,311,99,2,2.5,3,7.98,0,0.65\\r\\n171,312,101,2,2.5,3.5,8.04,1,0.68\\r\\n172,334,117,5,4,4.5,9.07,1,0.89\\r\\n173,322,110,4,4,5,9.13,1,0.86\\r\\n174,323,113,4,4,4.5,9.23,1,0.89\\r\\n175,321,111,4,4,4,8.97,1,0.87\\r\\n176,320,111,4,4.5,3.5,8.87,1,0.85\\r\\n177,329,119,4,4.5,4.5,9.16,1,0.9\\r\\n178,319,110,3,3.5,3.5,9.04,0,0.82\\r\\n179,309,108,3,2.5,3,8.12,0,0.72\\r\\n180,307,102,3,3,3,8.27,0,0.73\\r\\n181,300,104,3,3.5,3,8.16,0,0.71\\r\\n182,305,107,2,2.5,2.5,8.42,0,0.71\\r\\n183,299,100,2,3,3.5,7.88,0,0.68\\r\\n184,314,110,3,4,4,8.8,0,0.75\\r\\n185,316,106,2,2.5,4,8.32,0,0.72\\r\\n186,327,113,4,4.5,4.5,9.11,1,0.89\\r\\n187,317,107,3,3.5,3,8.68,1,0.84\\r\\n188,335,118,5,4.5,3.5,9.44,1,0.93\\r\\n189,331,115,5,4.5,3.5,9.36,1,0.93\\r\\n190,324,112,5,5,5,9.08,1,0.88\\r\\n191,324,111,5,4.5,4,9.16,1,0.9\\r\\n192,323,110,5,4,5,8.98,1,0.87\\r\\n193,322,114,5,4.5,4,8.94,1,0.86\\r\\n194,336,118,5,4.5,5,9.53,1,0.94\\r\\n195,316,109,3,3.5,3,8.76,0,0.77\\r\\n196,307,107,2,3,3.5,8.52,1,0.78\\r\\n197,306,105,2,3,2.5,8.26,0,0.73\\r\\n198,310,106,2,3.5,2.5,8.33,0,0.73\\r\\n199,311,104,3,4.5,4.5,8.43,0,0.7\\r\\n200,313,107,3,4,4.5,8.69,0,0.72\\r\\n201,317,103,3,2.5,3,8.54,1,0.73\\r\\n202,315,110,2,3.5,3,8.46,1,0.72\\r\\n203,340,120,5,4.5,4.5,9.91,1,0.97\\r\\n204,334,120,5,4,5,9.87,1,0.97\\r\\n205,298,105,3,3.5,4,8.54,0,0.69\\r\\n206,295,99,2,2.5,3,7.65,0,0.57\\r\\n207,315,99,2,3.5,3,7.89,0,0.63\\r\\n208,310,102,3,3.5,4,8.02,1,0.66\\r\\n209,305,106,2,3,3,8.16,0,0.64\\r\\n210,301,104,3,3.5,4,8.12,1,0.68\\r\\n211,325,108,4,4.5,4,9.06,1,0.79\\r\\n212,328,110,4,5,4,9.14,1,0.82\\r\\n213,338,120,4,5,5,9.66,1,0.95\\r\\n214,333,119,5,5,4.5,9.78,1,0.96\\r\\n215,331,117,4,4.5,5,9.42,1,0.94\\r\\n216,330,116,5,5,4.5,9.36,1,0.93\\r\\n217,322,112,4,4.5,4.5,9.26,1,0.91\\r\\n218,321,109,4,4,4,9.13,1,0.85\\r\\n219,324,110,4,3,3.5,8.97,1,0.84\\r\\n220,312,104,3,3.5,3.5,8.42,0,0.74\\r\\n221,313,103,3,4,4,8.75,0,0.76\\r\\n222,316,110,3,3.5,4,8.56,0,0.75\\r\\n223,324,113,4,4.5,4,8.79,0,0.76\\r\\n224,308,109,2,3,4,8.45,0,0.71\\r\\n225,305,105,2,3,2,8.23,0,0.67\\r\\n226,296,99,2,2.5,2.5,8.03,0,0.61\\r\\n227,306,110,2,3.5,4,8.45,0,0.63\\r\\n228,312,110,2,3.5,3,8.53,0,0.64\\r\\n229,318,112,3,4,3.5,8.67,0,0.71\\r\\n230,324,111,4,3,3,9.01,1,0.82\\r\\n231,313,104,3,4,4.5,8.65,0,0.73\\r\\n232,319,106,3,3.5,2.5,8.33,1,0.74\\r\\n233,312,107,2,2.5,3.5,8.27,0,0.69\\r\\n234,304,100,2,2.5,3.5,8.07,0,0.64\\r\\n235,330,113,5,5,4,9.31,1,0.91\\r\\n236,326,111,5,4.5,4,9.23,1,0.88\\r\\n237,325,112,4,4,4.5,9.17,1,0.85\\r\\n238,329,114,5,4.5,5,9.19,1,0.86\\r\\n239,310,104,3,2,3.5,8.37,0,0.7\\r\\n240,299,100,1,1.5,2,7.89,0,0.59\\r\\n241,296,101,1,2.5,3,7.68,0,0.6\\r\\n242,317,103,2,2.5,2,8.15,0,0.65\\r\\n243,324,115,3,3.5,3,8.76,1,0.7\\r\\n244,325,114,3,3.5,3,9.04,1,0.76\\r\\n245,314,107,2,2.5,4,8.56,0,0.63\\r\\n246,328,110,4,4,2.5,9.02,1,0.81\\r\\n247,316,105,3,3,3.5,8.73,0,0.72\\r\\n248,311,104,2,2.5,3.5,8.48,0,0.71\\r\\n249,324,110,3,3.5,4,8.87,1,0.8\\r\\n250,321,111,3,3.5,4,8.83,1,0.77\\r\\n251,320,104,3,3,2.5,8.57,1,0.74\\r\\n252,316,99,2,2.5,3,9,0,0.7\\r\\n253,318,100,2,2.5,3.5,8.54,1,0.71\\r\\n254,335,115,4,4.5,4.5,9.68,1,0.93\\r\\n255,321,114,4,4,5,9.12,0,0.85\\r\\n256,307,110,4,4,4.5,8.37,0,0.79\\r\\n257,309,99,3,4,4,8.56,0,0.76\\r\\n258,324,100,3,4,5,8.64,1,0.78\\r\\n259,326,102,4,5,5,8.76,1,0.77\\r\\n260,331,119,4,5,4.5,9.34,1,0.9\\r\\n261,327,108,5,5,3.5,9.13,1,0.87\\r\\n262,312,104,3,3.5,4,8.09,0,0.71\\r\\n263,308,103,2,2.5,4,8.36,1,0.7\\r\\n264,324,111,3,2.5,1.5,8.79,1,0.7\\r\\n265,325,110,2,3,2.5,8.76,1,0.75\\r\\n266,313,102,3,2.5,2.5,8.68,0,0.71\\r\\n267,312,105,2,2,2.5,8.45,0,0.72\\r\\n268,314,107,3,3,3.5,8.17,1,0.73\\r\\n269,327,113,4,4.5,5,9.14,0,0.83\\r\\n270,308,108,4,4.5,5,8.34,0,0.77\\r\\n271,306,105,2,2.5,3,8.22,1,0.72\\r\\n272,299,96,2,1.5,2,7.86,0,0.54\\r\\n273,294,95,1,1.5,1.5,7.64,0,0.49\\r\\n274,312,99,1,1,1.5,8.01,1,0.52\\r\\n275,315,100,1,2,2.5,7.95,0,0.58\\r\\n276,322,110,3,3.5,3,8.96,1,0.78\\r\\n277,329,113,5,5,4.5,9.45,1,0.89\\r\\n278,320,101,2,2.5,3,8.62,0,0.7\\r\\n279,308,103,2,3,3.5,8.49,0,0.66\\r\\n280,304,102,2,3,4,8.73,0,0.67\\r\\n281,311,102,3,4.5,4,8.64,1,0.68\\r\\n282,317,110,3,4,4.5,9.11,1,0.8\\r\\n283,312,106,3,4,3.5,8.79,1,0.81\\r\\n284,321,111,3,2.5,3,8.9,1,0.8\\r\\n285,340,112,4,5,4.5,9.66,1,0.94\\r\\n286,331,116,5,4,4,9.26,1,0.93\\r\\n287,336,118,5,4.5,4,9.19,1,0.92\\r\\n288,324,114,5,5,4.5,9.08,1,0.89\\r\\n289,314,104,4,5,5,9.02,0,0.82\\r\\n290,313,109,3,4,3.5,9,0,0.79\\r\\n291,307,105,2,2.5,3,7.65,0,0.58\\r\\n292,300,102,2,1.5,2,7.87,0,0.56\\r\\n293,302,99,2,1,2,7.97,0,0.56\\r\\n294,312,98,1,3.5,3,8.18,1,0.64\\r\\n295,316,101,2,2.5,2,8.32,1,0.61\\r\\n296,317,100,2,3,2.5,8.57,0,0.68\\r\\n297,310,107,3,3.5,3.5,8.67,0,0.76\\r\\n298,320,120,3,4,4.5,9.11,0,0.86\\r\\n299,330,114,3,4.5,4.5,9.24,1,0.9\\r\\n300,305,112,3,3,3.5,8.65,0,0.71\\r\\n301,309,106,2,2.5,2.5,8,0,0.62\\r\\n302,319,108,2,2.5,3,8.76,0,0.66\\r\\n303,322,105,2,3,3,8.45,1,0.65\\r\\n304,323,107,3,3.5,3.5,8.55,1,0.73\\r\\n305,313,106,2,2.5,2,8.43,0,0.62\\r\\n306,321,109,3,3.5,3.5,8.8,1,0.74\\r\\n307,323,110,3,4,3.5,9.1,1,0.79\\r\\n308,325,112,4,4,4,9,1,0.8\\r\\n309,312,108,3,3.5,3,8.53,0,0.69\\r\\n310,308,110,4,3.5,3,8.6,0,0.7\\r\\n311,320,104,3,3,3.5,8.74,1,0.76\\r\\n312,328,108,4,4.5,4,9.18,1,0.84\\r\\n313,311,107,4,4.5,4.5,9,1,0.78\\r\\n314,301,100,3,3.5,3,8.04,0,0.67\\r\\n315,305,105,2,3,4,8.13,0,0.66\\r\\n316,308,104,2,2.5,3,8.07,0,0.65\\r\\n317,298,101,2,1.5,2,7.86,0,0.54\\r\\n318,300,99,1,1,2.5,8.01,0,0.58\\r\\n319,324,111,3,2.5,2,8.8,1,0.79\\r\\n320,327,113,4,3.5,3,8.69,1,0.8\\r\\n321,317,106,3,4,3.5,8.5,1,0.75\\r\\n322,323,104,3,4,4,8.44,1,0.73\\r\\n323,314,107,2,2.5,4,8.27,0,0.72\\r\\n324,305,102,2,2,2.5,8.18,0,0.62\\r\\n325,315,104,3,3,2.5,8.33,0,0.67\\r\\n326,326,116,3,3.5,4,9.14,1,0.81\\r\\n327,299,100,3,2,2,8.02,0,0.63\\r\\n328,295,101,2,2.5,2,7.86,0,0.69\\r\\n329,324,112,4,4,3.5,8.77,1,0.8\\r\\n330,297,96,2,2.5,1.5,7.89,0,0.43\\r\\n331,327,113,3,3.5,3,8.66,1,0.8\\r\\n332,311,105,2,3,2,8.12,1,0.73\\r\\n333,308,106,3,3.5,2.5,8.21,1,0.75\\r\\n334,319,108,3,3,3.5,8.54,1,0.71\\r\\n335,312,107,4,4.5,4,8.65,1,0.73\\r\\n336,325,111,4,4,4.5,9.11,1,0.83\\r\\n337,319,110,3,3,2.5,8.79,0,0.72\\r\\n338,332,118,5,5,5,9.47,1,0.94\\r\\n339,323,108,5,4,4,8.74,1,0.81\\r\\n340,324,107,5,3.5,4,8.66,1,0.81\\r\\n341,312,107,3,3,3,8.46,1,0.75\\r\\n342,326,110,3,3.5,3.5,8.76,1,0.79\\r\\n343,308,106,3,3,3,8.24,0,0.58\\r\\n344,305,103,2,2.5,3.5,8.13,0,0.59\\r\\n345,295,96,2,1.5,2,7.34,0,0.47\\r\\n346,316,98,1,1.5,2,7.43,0,0.49\\r\\n347,304,97,2,1.5,2,7.64,0,0.47\\r\\n348,299,94,1,1,1,7.34,0,0.42\\r\\n349,302,99,1,2,2,7.25,0,0.57\\r\\n350,313,101,3,2.5,3,8.04,0,0.62\\r\\n351,318,107,3,3,3.5,8.27,1,0.74\\r\\n352,325,110,4,3.5,4,8.67,1,0.73\\r\\n353,303,100,2,3,3.5,8.06,1,0.64\\r\\n354,300,102,3,3.5,2.5,8.17,0,0.63\\r\\n355,297,98,2,2.5,3,7.67,0,0.59\\r\\n356,317,106,2,2,3.5,8.12,0,0.73\\r\\n357,327,109,3,3.5,4,8.77,1,0.79\\r\\n358,301,104,2,3.5,3.5,7.89,1,0.68\\r\\n359,314,105,2,2.5,2,7.64,0,0.7\\r\\n360,321,107,2,2,1.5,8.44,0,0.81\\r\\n361,322,110,3,4,5,8.64,1,0.85\\r\\n362,334,116,4,4,3.5,9.54,1,0.93\\r\\n363,338,115,5,4.5,5,9.23,1,0.91\\r\\n364,306,103,2,2.5,3,8.36,0,0.69\\r\\n365,313,102,3,3.5,4,8.9,1,0.77\\r\\n366,330,114,4,4.5,3,9.17,1,0.86\\r\\n367,320,104,3,3.5,4.5,8.34,1,0.74\\r\\n368,311,98,1,1,2.5,7.46,0,0.57\\r\\n369,298,92,1,2,2,7.88,0,0.51\\r\\n370,301,98,1,2,3,8.03,1,0.67\\r\\n371,310,103,2,2.5,2.5,8.24,0,0.72\\r\\n372,324,110,3,3.5,3,9.22,1,0.89\\r\\n373,336,119,4,4.5,4,9.62,1,0.95\\r\\n374,321,109,3,3,3,8.54,1,0.79\\r\\n375,315,105,2,2,2.5,7.65,0,0.39\\r\\n376,304,101,2,2,2.5,7.66,0,0.38\\r\\n377,297,96,2,2.5,2,7.43,0,0.34\\r\\n378,290,100,1,1.5,2,7.56,0,0.47\\r\\n379,303,98,1,2,2.5,7.65,0,0.56\\r\\n380,311,99,1,2.5,3,8.43,1,0.71\\r\\n381,322,104,3,3.5,4,8.84,1,0.78\\r\\n382,319,105,3,3,3.5,8.67,1,0.73\\r\\n383,324,110,4,4.5,4,9.15,1,0.82\\r\\n384,300,100,3,3,3.5,8.26,0,0.62\\r\\n385,340,113,4,5,5,9.74,1,0.96\\r\\n386,335,117,5,5,5,9.82,1,0.96\\r\\n387,302,101,2,2.5,3.5,7.96,0,0.46\\r\\n388,307,105,2,2,3.5,8.1,0,0.53\\r\\n389,296,97,2,1.5,2,7.8,0,0.49\\r\\n390,320,108,3,3.5,4,8.44,1,0.76\\r\\n391,314,102,2,2,2.5,8.24,0,0.64\\r\\n392,318,106,3,2,3,8.65,0,0.71\\r\\n393,326,112,4,4,3.5,9.12,1,0.84\\r\\n394,317,104,2,3,3,8.76,0,0.77\\r\\n395,329,111,4,4.5,4,9.23,1,0.89\\r\\n396,324,110,3,3.5,3.5,9.04,1,0.82\\r\\n397,325,107,3,3,3.5,9.11,1,0.84\\r\\n398,330,116,4,5,4.5,9.45,1,0.91\\r\\n399,312,103,3,3.5,4,8.78,0,0.67\\r\\n400,333,117,4,5,4,9.66,1,0.95'}"
            ]
          },
          "metadata": {},
          "execution_count": 3
        }
      ]
    },
    {
      "cell_type": "code",
      "source": [
        "#reading the csv by spark\n",
        "Uni_data = spark.read.csv('Admission_Predict.csv',inferSchema=True, header = True)"
      ],
      "metadata": {
        "id": "dk2qWiBOtu1Y"
      },
      "execution_count": 66,
      "outputs": []
    },
    {
      "cell_type": "code",
      "source": [
        "#getting the first five observations\n",
        "Uni_data.show(5)"
      ],
      "metadata": {
        "colab": {
          "base_uri": "https://localhost:8080/"
        },
        "id": "RaSWQaPFuBCl",
        "outputId": "42f9e874-c484-42a3-db34-8b28ee2eece5"
      },
      "execution_count": 67,
      "outputs": [
        {
          "output_type": "stream",
          "name": "stdout",
          "text": [
            "+----------+---------+-----------+-----------------+---+----+----+--------+----------------+\n",
            "|Serial No.|GRE Score|TOEFL Score|University Rating|SOP|LOR |CGPA|Research|Chance of Admit |\n",
            "+----------+---------+-----------+-----------------+---+----+----+--------+----------------+\n",
            "|         1|      337|        118|                4|4.5| 4.5|9.65|       1|            0.92|\n",
            "|         2|      324|        107|                4|4.0| 4.5|8.87|       1|            0.76|\n",
            "|         3|      316|        104|                3|3.0| 3.5| 8.0|       1|            0.72|\n",
            "|         4|      322|        110|                3|3.5| 2.5|8.67|       1|             0.8|\n",
            "|         5|      314|        103|                2|2.0| 3.0|8.21|       0|            0.65|\n",
            "+----------+---------+-----------+-----------------+---+----+----+--------+----------------+\n",
            "only showing top 5 rows\n",
            "\n"
          ]
        }
      ]
    },
    {
      "cell_type": "code",
      "source": [
        "#Getting the shape of the dataframe\n",
        "print(f\"The University data has {Uni_data.count()} observations and {len(Uni_data.columns)} features\")\n",
        "for i in Uni_data.columns:\n",
        "  print(f\"'{i}'\")"
      ],
      "metadata": {
        "colab": {
          "base_uri": "https://localhost:8080/"
        },
        "id": "jCXT7kLMuNK7",
        "outputId": "170a888c-8232-4167-f079-fc5181ac00b6"
      },
      "execution_count": 103,
      "outputs": [
        {
          "output_type": "stream",
          "name": "stdout",
          "text": [
            "The University data has 400 observations and 8 features\n",
            "'GRE Score'\n",
            "'TOEFL Score'\n",
            "'University Rating'\n",
            "'SOP'\n",
            "'LOR '\n",
            "'CGPA'\n",
            "'Research'\n",
            "'Chance of Admit '\n"
          ]
        }
      ]
    },
    {
      "cell_type": "code",
      "source": [
        "#knowing the data and their type to fit the Linear Regression Model\n",
        "Uni_data.printSchema()"
      ],
      "metadata": {
        "colab": {
          "base_uri": "https://localhost:8080/"
        },
        "id": "okpTVcniutxD",
        "outputId": "bb207fb1-2702-44df-b492-10a713b4df75"
      },
      "execution_count": 69,
      "outputs": [
        {
          "output_type": "stream",
          "name": "stdout",
          "text": [
            "root\n",
            " |-- Serial No.: integer (nullable = true)\n",
            " |-- GRE Score: integer (nullable = true)\n",
            " |-- TOEFL Score: integer (nullable = true)\n",
            " |-- University Rating: integer (nullable = true)\n",
            " |-- SOP: double (nullable = true)\n",
            " |-- LOR : double (nullable = true)\n",
            " |-- CGPA: double (nullable = true)\n",
            " |-- Research: integer (nullable = true)\n",
            " |-- Chance of Admit : double (nullable = true)\n",
            "\n"
          ]
        }
      ]
    },
    {
      "cell_type": "code",
      "source": [
        "#getting the descriptive statistics\n",
        "Uni_data.describe().show()"
      ],
      "metadata": {
        "colab": {
          "base_uri": "https://localhost:8080/"
        },
        "id": "Q_z0yK67vJBe",
        "outputId": "9d6f76be-bcff-4c03-d21c-5d7a8b25f511"
      },
      "execution_count": 70,
      "outputs": [
        {
          "output_type": "stream",
          "name": "stdout",
          "text": [
            "+-------+------------------+------------------+-----------------+------------------+-----------------+------------------+------------------+-------------------+------------------+\n",
            "|summary|        Serial No.|         GRE Score|      TOEFL Score| University Rating|              SOP|              LOR |              CGPA|           Research|  Chance of Admit |\n",
            "+-------+------------------+------------------+-----------------+------------------+-----------------+------------------+------------------+-------------------+------------------+\n",
            "|  count|               400|               400|              400|               400|              400|               400|               400|                400|               400|\n",
            "|   mean|             200.5|          316.8075|           107.41|            3.0875|              3.4|            3.4525| 8.598924999999998|             0.5475|0.7243499999999996|\n",
            "| stddev|115.61430130683084|11.473646113500488|6.069513777374134|1.1437281298838986|1.006868641458697|0.8984775482792569|0.5963170964964315|0.49836197853983155|0.1426093301738409|\n",
            "|    min|                 1|               290|               92|                 1|              1.0|               1.0|               6.8|                  0|              0.34|\n",
            "|    max|               400|               340|              120|                 5|              5.0|               5.0|              9.92|                  1|              0.97|\n",
            "+-------+------------------+------------------+-----------------+------------------+-----------------+------------------+------------------+-------------------+------------------+\n",
            "\n"
          ]
        }
      ]
    },
    {
      "cell_type": "code",
      "source": [
        "#as the serial number column is not going to contribute anything, we can simply remove that\n",
        "Uni_data = Uni_data.drop('Serial No.')\n",
        "Uni_data.show(5)"
      ],
      "metadata": {
        "colab": {
          "base_uri": "https://localhost:8080/"
        },
        "id": "nKsep4vIvaGw",
        "outputId": "4434b532-a8e1-4e04-a52e-ba3757088a1c"
      },
      "execution_count": 71,
      "outputs": [
        {
          "output_type": "stream",
          "name": "stdout",
          "text": [
            "+---------+-----------+-----------------+---+----+----+--------+----------------+\n",
            "|GRE Score|TOEFL Score|University Rating|SOP|LOR |CGPA|Research|Chance of Admit |\n",
            "+---------+-----------+-----------------+---+----+----+--------+----------------+\n",
            "|      337|        118|                4|4.5| 4.5|9.65|       1|            0.92|\n",
            "|      324|        107|                4|4.0| 4.5|8.87|       1|            0.76|\n",
            "|      316|        104|                3|3.0| 3.5| 8.0|       1|            0.72|\n",
            "|      322|        110|                3|3.5| 2.5|8.67|       1|             0.8|\n",
            "|      314|        103|                2|2.0| 3.0|8.21|       0|            0.65|\n",
            "+---------+-----------+-----------------+---+----+----+--------+----------------+\n",
            "only showing top 5 rows\n",
            "\n"
          ]
        }
      ]
    },
    {
      "cell_type": "code",
      "source": [
        "#gettin the null value count of the data\n",
        "for null_values in Uni_data.columns:\n",
        "  print(f\"The null values for the column: ''{null_values}'' and values are: {Uni_data[Uni_data[null_values].isNull()].count()}\")"
      ],
      "metadata": {
        "colab": {
          "base_uri": "https://localhost:8080/"
        },
        "id": "0doa6hQuv8N2",
        "outputId": "65fad86a-8cf6-4210-8735-bd7fbe843410"
      },
      "execution_count": 72,
      "outputs": [
        {
          "output_type": "stream",
          "name": "stdout",
          "text": [
            "The null values for the column: ''GRE Score'' and values are: 0\n",
            "The null values for the column: ''TOEFL Score'' and values are: 0\n",
            "The null values for the column: ''University Rating'' and values are: 0\n",
            "The null values for the column: ''SOP'' and values are: 0\n",
            "The null values for the column: ''LOR '' and values are: 0\n",
            "The null values for the column: ''CGPA'' and values are: 0\n",
            "The null values for the column: ''Research'' and values are: 0\n",
            "The null values for the column: ''Chance of Admit '' and values are: 0\n"
          ]
        }
      ]
    },
    {
      "cell_type": "code",
      "source": [
        "#getting the correaltion matrix to just \n",
        "#only include the variables with high correaltion with target variables\n",
        "for column in Uni_data.columns:\n",
        "    print('The Correaltion value of {} with target variables is {}'.format(\n",
        "          column, Uni_data.stat.corr('Chance of Admit ',column)))"
      ],
      "metadata": {
        "colab": {
          "base_uri": "https://localhost:8080/"
        },
        "id": "-BVujp2H0ch9",
        "outputId": "58028518-8834-47f2-c782-b7f15d7a6de7"
      },
      "execution_count": 73,
      "outputs": [
        {
          "output_type": "stream",
          "name": "stdout",
          "text": [
            "The Correaltion value of GRE Score with target variables is 0.8026104595903502\n",
            "The Correaltion value of TOEFL Score with target variables is 0.7915939869351041\n",
            "The Correaltion value of University Rating with target variables is 0.7112502503917226\n",
            "The Correaltion value of SOP with target variables is 0.6757318583886724\n",
            "The Correaltion value of LOR  with target variables is 0.6698887920106943\n",
            "The Correaltion value of CGPA with target variables is 0.8732890993553003\n",
            "The Correaltion value of Research with target variables is 0.5532021370190405\n",
            "The Correaltion value of Chance of Admit  with target variables is 1.0\n"
          ]
        }
      ]
    },
    {
      "cell_type": "code",
      "source": [
        "#histogram\n",
        "Admit = Uni_data.select('Chance of Admit ')\n",
        "AGe_list = Uni_data.select(\"Chance of Admit \").rdd.flatMap(lambda x:x).collect()\n",
        "n,bins, patches = plt.hist(AGe_list, 10,facecolor = \"red\")\n",
        "plt.title(\"The Histogram of Target Variable\")"
      ],
      "metadata": {
        "colab": {
          "base_uri": "https://localhost:8080/",
          "height": 481
        },
        "id": "YZMxRW4LJZfl",
        "outputId": "d749af5b-9a9f-4a27-fee4-1ffbc90507f7"
      },
      "execution_count": 104,
      "outputs": [
        {
          "output_type": "execute_result",
          "data": {
            "text/plain": [
              "Text(0.5, 1.0, 'The Histogram of Target Variable')"
            ]
          },
          "metadata": {},
          "execution_count": 104
        },
        {
          "output_type": "display_data",
          "data": {
            "text/plain": [
              "<Figure size 504x504 with 1 Axes>"
            ],
            "image/png": "[encoded data removed]"
          },
          "metadata": {}
        }
      ]
    },
    {
      "cell_type": "code",
      "source": [
        "features= ['GRE Score','TOEFL Score','University Rating','SOP','LOR ','CGPA','Research']\n",
        "assembler_spark= VectorAssembler(inputCols=features,outputCol='features')"
      ],
      "metadata": {
        "id": "L-iU4jMEEjmc"
      },
      "execution_count": 79,
      "outputs": []
    },
    {
      "cell_type": "code",
      "source": [
        "#transforming the data\n",
        "Df_features=assembler_spark.transform(Uni_data)"
      ],
      "metadata": {
        "id": "jX66TOeXEZsE"
      },
      "execution_count": 80,
      "outputs": []
    },
    {
      "cell_type": "code",
      "source": [
        "#standardize the data for Principal Component analysis\n",
        "scaler= StandardScaler(inputCol='features',\n",
        "                       outputCol='scaledFeature',\n",
        "                       withMean=True,\n",
        "                       withStd=True).fit(Df_features)\n",
        "df_scaled=scaler.transform(Df_features)\n",
        "df_scaled.show(5)"
      ],
      "metadata": {
        "colab": {
          "base_uri": "https://localhost:8080/"
        },
        "id": "4m1EtGbVE5n1",
        "outputId": "27ca9aed-e116-460f-a7e5-9a496de552f7"
      },
      "execution_count": 81,
      "outputs": [
        {
          "output_type": "stream",
          "name": "stdout",
          "text": [
            "+---------+-----------+-----------------+---+----+----+--------+----------------+--------------------+--------------------+\n",
            "|GRE Score|TOEFL Score|University Rating|SOP|LOR |CGPA|Research|Chance of Admit |            features|       scaledFeature|\n",
            "+---------+-----------+-----------------+---+----+----+--------+----------------+--------------------+--------------------+\n",
            "|      337|        118|                4|4.5| 4.5|9.65|       1|            0.92|[337.0,118.0,4.0,...|[1.75990263254156...|\n",
            "|      324|        107|                4|4.0| 4.5|8.87|       1|            0.76|[324.0,107.0,4.0,...|[0.62687134750798...|\n",
            "|      316|        104|                3|3.0| 3.5| 8.0|       1|            0.72|[316.0,104.0,3.0,...|[-0.0703786740511...|\n",
            "|      322|        110|                3|3.5| 2.5|8.67|       1|             0.8|[322.0,110.0,3.0,...|[0.45255884211820...|\n",
            "|      314|        103|                2|2.0| 3.0|8.21|       0|            0.65|[314.0,103.0,2.0,...|[-0.2446911794409...|\n",
            "+---------+-----------+-----------------+---+----+----+--------+----------------+--------------------+--------------------+\n",
            "only showing top 5 rows\n",
            "\n"
          ]
        }
      ]
    },
    {
      "cell_type": "code",
      "source": [
        "#Train model for two principal component analysis\n",
        "n_components=2\n",
        "pca=PCA(k=n_components,\n",
        "inputCol='scaledFeature',outputCol='pcafeatures').fit(df_scaled)\n",
        "\n",
        "df_pca=pca.transform(df_scaled)\n",
        "print('explained variance Ratio',pca.explainedVariance.toArray())\n",
        "df_pca.show(5)"
      ],
      "metadata": {
        "colab": {
          "base_uri": "https://localhost:8080/"
        },
        "id": "deewKEXFFBEU",
        "outputId": "7854f7c8-2735-4005-df64-9a60832deea9"
      },
      "execution_count": 106,
      "outputs": [
        {
          "output_type": "stream",
          "name": "stdout",
          "text": [
            "explained variance Ratio [0.69614538 0.10355405]\n",
            "+---------+-----------+-----------------+---+----+----+--------+----------------+--------------------+--------------------+--------------------+\n",
            "|GRE Score|TOEFL Score|University Rating|SOP|LOR |CGPA|Research|Chance of Admit |            features|       scaledFeature|         pcafeatures|\n",
            "+---------+-----------+-----------------+---+----+----+--------+----------------+--------------------+--------------------+--------------------+\n",
            "|      337|        118|                4|4.5| 4.5|9.65|       1|            0.92|[337.0,118.0,4.0,...|[1.75990263254156...|[-3.5390893206050...|\n",
            "|      324|        107|                4|4.0| 4.5|8.87|       1|            0.76|[324.0,107.0,4.0,...|[0.62687134750798...|[-1.6292128527604...|\n",
            "|      316|        104|                3|3.0| 3.5| 8.0|       1|            0.72|[316.0,104.0,3.0,...|[-0.0703786740511...|[0.56939360009773...|\n",
            "|      322|        110|                3|3.5| 2.5|8.67|       1|             0.8|[322.0,110.0,3.0,...|[0.45255884211820...|[-0.2957431453761...|\n",
            "|      314|        103|                2|2.0| 3.0|8.21|       0|            0.65|[314.0,103.0,2.0,...|[-0.2446911794409...|[2.05905919973747...|\n",
            "+---------+-----------+-----------------+---+----+----+--------+----------------+--------------------+--------------------+--------------------+\n",
            "only showing top 5 rows\n",
            "\n"
          ]
        }
      ]
    },
    {
      "cell_type": "code",
      "source": [
        "#Collect distributed data in numpy array and then convert to pandas dataframe\n",
        "X_principal=df_pca.rdd.map(lambda row:row.pcafeatures).collect()\n",
        "X_principal=np.array(X_principal)\n",
        "X_principal"
      ],
      "metadata": {
        "colab": {
          "base_uri": "https://localhost:8080/"
        },
        "id": "SfqXcNqXFBHX",
        "outputId": "0a5af407-21b5-41d7-ccf5-b1184d45121e"
      },
      "execution_count": 83,
      "outputs": [
        {
          "output_type": "execute_result",
          "data": {
            "text/plain": [
              "array([[-3.53908932,  0.32373657],\n",
              "       [-1.62921285, -0.07795975],\n",
              "       [ 0.5693936 ,  0.68021447],\n",
              "       [-0.29574315,  1.30164785],\n",
              "       [ 2.0590592 , -0.0360462 ],\n",
              "       [-2.62668135,  0.62607779],\n",
              "       [-0.27082767,  0.66364175],\n",
              "       [ 1.83997187, -1.08598331],\n",
              "       [ 3.62159436,  0.58743265],\n",
              "       [ 0.23672993, -0.4189728 ],\n",
              "       [-0.54231223,  0.53588591],\n",
              "       [-2.0872001 ,  0.08281062],\n",
              "       [-2.2576248 ,  0.13160256],\n",
              "       [ 0.37173188,  0.45826745],\n",
              "       [ 1.00745195,  1.1383008 ],\n",
              "       [ 1.15436145, -0.46549374],\n",
              "       [ 0.25091307, -0.76011195],\n",
              "       [ 0.15236016,  0.69800365],\n",
              "       [-0.05094042, -0.67075796],\n",
              "       [ 1.39520849, -1.0450871 ],\n",
              "       [ 1.17538938,  1.38783538],\n",
              "       [ 0.16000939,  0.21902765],\n",
              "       [-3.71716561, -0.57280668],\n",
              "       [-4.06446773, -0.10460417],\n",
              "       [-3.42811177,  0.79730625],\n",
              "       [-4.07865087,  0.23653498],\n",
              "       [-1.18996108, -1.41737582],\n",
              "       [ 3.24302418,  1.31390571],\n",
              "       [ 4.81789682, -0.04828011],\n",
              "       [ 3.68374967,  0.42544677],\n",
              "       [ 2.05185116,  0.59225918],\n",
              "       [-0.53437542,  0.34764562],\n",
              "       [-2.82943319,  0.86222159],\n",
              "       [-3.29647661,  0.53902442],\n",
              "       [-3.38886308, -0.22033587],\n",
              "       [-2.83520046, -0.90526695],\n",
              "       [ 1.09420648, -1.54076169],\n",
              "       [ 3.81534775,  0.68917163],\n",
              "       [ 3.32545982,  0.33299691],\n",
              "       [ 1.37320625, -1.07390734],\n",
              "       [ 0.46109587,  0.67762787],\n",
              "       [ 1.28867004,  1.58291806],\n",
              "       [ 1.24946774,  1.80886771],\n",
              "       [-2.13186971, -1.0432243 ],\n",
              "       [-2.79461465, -0.01288882],\n",
              "       [-2.43841893, -0.35834401],\n",
              "       [-3.10086902, -0.24718351],\n",
              "       [-3.26527436, -1.00772569],\n",
              "       [-1.37753475,  0.03210975],\n",
              "       [-1.08951979,  0.66024156],\n",
              "       [ 0.65139446,  0.16751345],\n",
              "       [ 1.94945847,  1.21870511],\n",
              "       [-1.36443177,  1.07536091],\n",
              "       [-0.62637923,  0.9973612 ],\n",
              "       [ 0.55170313, -0.50034821],\n",
              "       [ 1.4892252 , -0.45265535],\n",
              "       [ 2.28335601, -0.23545516],\n",
              "       [ 2.94132258, -0.73490017],\n",
              "       [ 3.56563634,  1.28927321],\n",
              "       [ 2.43067281,  0.4124954 ],\n",
              "       [ 2.12717515, -0.57400178],\n",
              "       [ 1.34229884, -1.14959404],\n",
              "       [ 1.31729701,  0.85816315],\n",
              "       [ 0.21448479,  0.8365819 ],\n",
              "       [-0.10814515, -0.38068394],\n",
              "       [-0.85665353, -0.72799338],\n",
              "       [-0.40060986, -0.00851936],\n",
              "       [ 0.07346217,  0.79036445],\n",
              "       [-1.07049443,  0.44978466],\n",
              "       [-2.48845639,  0.27063663],\n",
              "       [-4.08543372, -0.42720384],\n",
              "       [-3.91398656, -0.44454177],\n",
              "       [-3.11062627, -0.85128107],\n",
              "       [-1.45852074, -0.22616158],\n",
              "       [-0.13206927, -1.50112838],\n",
              "       [-0.41049855,  1.52713794],\n",
              "       [-0.64403218,  1.39306919],\n",
              "       [ 2.78276518, -0.29022481],\n",
              "       [ 3.11032232,  0.93240231],\n",
              "       [ 4.93039317,  0.10624293],\n",
              "       [ 1.20619324,  1.19920167],\n",
              "       [-4.05753364,  0.01007388],\n",
              "       [-2.65110064, -0.65442991],\n",
              "       [-2.76751686, -0.15001831],\n",
              "       [-3.64507781,  0.12993588],\n",
              "       [-0.25454057, -1.41787736],\n",
              "       [ 0.19416075, -1.26436052],\n",
              "       [ 1.07370854, -0.39944674],\n",
              "       [ 0.29344361, -1.25854211],\n",
              "       [-1.19955224,  0.08466514],\n",
              "       [ 0.1858748 ,  0.3710734 ],\n",
              "       [ 1.6831611 , -2.04800929],\n",
              "       [ 2.30983385, -1.24058091],\n",
              "       [ 2.17114321,  0.60968966],\n",
              "       [ 2.94782169, -0.36277845],\n",
              "       [ 2.57217994, -0.33836246],\n",
              "       [ 2.30130461, -0.65260923],\n",
              "       [-2.25236322,  0.8154696 ],\n",
              "       [-3.33404077,  0.03054833],\n",
              "       [-1.45868531,  0.47034609],\n",
              "       [-0.34779837,  0.73324421],\n",
              "       [ 1.87026228, -0.22272817],\n",
              "       [ 0.87666395, -0.92008701],\n",
              "       [ 0.36207446, -1.30206208],\n",
              "       [-1.030113  ,  1.2054165 ],\n",
              "       [-1.14667435, -0.01944206],\n",
              "       [-2.47240853, -0.0348912 ],\n",
              "       [-2.99550719,  0.66998703],\n",
              "       [-3.73729344, -0.50181702],\n",
              "       [-0.44678915, -2.41964677],\n",
              "       [ 0.45728227, -1.1023201 ],\n",
              "       [-1.32541154,  0.13102301],\n",
              "       [ 0.46510358,  0.20307529],\n",
              "       [ 0.18854665, -0.67793909],\n",
              "       [ 0.37053577,  0.66694938],\n",
              "       [-1.38635363, -0.61706125],\n",
              "       [ 1.06215797, -1.56530066],\n",
              "       [ 2.87147126, -0.79510329],\n",
              "       [ 3.02002008, -1.19844847],\n",
              "       [-1.07842675,  0.58247729],\n",
              "       [-4.06784746, -0.37511016],\n",
              "       [-3.72067815,  0.06180915],\n",
              "       [ 1.60563231, -0.04838095],\n",
              "       [ 0.82527637, -1.05799943],\n",
              "       [ 1.26334179, -0.86821325],\n",
              "       [ 1.50327535,  0.81937807],\n",
              "       [-1.37048861,  0.9858707 ],\n",
              "       [ 0.22663238,  1.86665687],\n",
              "       [-1.06511337,  1.20714781],\n",
              "       [-3.91714115, -0.4121972 ],\n",
              "       [-3.57186818,  0.26937185],\n",
              "       [-0.7486084 , -2.65393124],\n",
              "       [ 0.07169862, -1.48437561],\n",
              "       [-1.61422566, -1.6584349 ],\n",
              "       [-2.76379283,  0.33232505],\n",
              "       [-0.95565723,  0.13283256],\n",
              "       [ 0.0865445 , -1.82348527],\n",
              "       [ 1.82671823,  1.57804556],\n",
              "       [-1.35454227,  1.14069434],\n",
              "       [ 0.46046843, -0.35371766],\n",
              "       [-0.92359722,  1.27060793],\n",
              "       [-2.08833053,  1.0910969 ],\n",
              "       [-2.73970368,  0.57847529],\n",
              "       [-3.76554885,  0.69893707],\n",
              "       [-0.60171036,  1.3023156 ],\n",
              "       [ 0.50590133,  2.03462608],\n",
              "       [ 1.56301441,  0.0878806 ],\n",
              "       [-1.01375427,  1.42208724],\n",
              "       [-2.9960929 ,  1.01278514],\n",
              "       [ 0.7768272 ,  0.88182856],\n",
              "       [-2.63021349,  0.58402546],\n",
              "       [-3.70200228, -0.48023138],\n",
              "       [-2.90333778, -0.8445043 ],\n",
              "       [ 0.08775043, -0.77583159],\n",
              "       [-0.07871296, -0.40989975],\n",
              "       [ 0.67960814, -0.49707531],\n",
              "       [ 1.66101544,  0.08303291],\n",
              "       [ 2.32999228,  0.11086929],\n",
              "       [ 2.38669311,  0.07213137],\n",
              "       [ 3.98825973,  0.34205318],\n",
              "       [ 3.19434452,  0.85238015],\n",
              "       [ 3.93106785, -0.16870418],\n",
              "       [ 0.6043521 , -0.35336467],\n",
              "       [ 0.67013084, -0.63149059],\n",
              "       [-2.1553073 ,  0.20936684],\n",
              "       [-1.57277669, -1.64135283],\n",
              "       [ 0.75651943, -2.0765999 ],\n",
              "       [ 1.7784783 , -0.28047508],\n",
              "       [ 2.48819636,  0.25430655],\n",
              "       [ 2.39725923, -0.37431031],\n",
              "       [ 1.40616714,  0.8957716 ],\n",
              "       [-3.11245839,  0.18108141],\n",
              "       [-2.13703877, -0.30835487],\n",
              "       [-2.24079228,  0.03114364],\n",
              "       [-1.65984246,  0.1816267 ],\n",
              "       [-1.54682013,  0.2292292 ],\n",
              "       [-2.9841235 ,  0.12666451],\n",
              "       [-0.26196378, -0.71351277],\n",
              "       [ 1.43824341, -0.43820705],\n",
              "       [ 1.60715984, -0.77882695],\n",
              "       [ 1.60591094, -1.09144281],\n",
              "       [ 1.96989827, -0.09697162],\n",
              "       [ 2.43017254, -1.08224682],\n",
              "       [-0.30830206, -1.27124008],\n",
              "       [ 1.12950817, -0.5956178 ],\n",
              "       [-2.48541764, -0.04684953],\n",
              "       [-0.13015215,  0.86576514],\n",
              "       [-3.2654731 ,  0.56548037],\n",
              "       [-2.87349104,  0.40167407],\n",
              "       [-3.02146665, -0.76866695],\n",
              "       [-2.42576495, -0.11185774],\n",
              "       [-2.40575165, -0.4896777 ],\n",
              "       [-2.39948735, -0.10872899],\n",
              "       [-3.95748325, -0.15678853],\n",
              "       [ 0.30198137, -0.56848948],\n",
              "       [ 0.65963717,  0.73480594],\n",
              "       [ 1.98883071, -0.29205672],\n",
              "       [ 1.54548955, -0.34318986],\n",
              "       [ 0.06122781, -1.90505845],\n",
              "       [-0.19754847, -1.61108486],\n",
              "       [ 0.61028235,  1.12785555],\n",
              "       [ 0.23512987,  1.07007105],\n",
              "       [-4.29565316,  0.24726914],\n",
              "       [-4.06770744,  0.01948104],\n",
              "       [ 0.94741295, -1.60838935],\n",
              "       [ 3.18361485, -0.78650938],\n",
              "       [ 1.94184569, -0.6252958 ],\n",
              "       [ 0.50719175,  0.06587967],\n",
              "       [ 1.82972666, -0.55043111],\n",
              "       [ 0.6181484 , -0.1155301 ],\n",
              "       [-1.8543262 ,  0.05006196],\n",
              "       [-2.33567225, -0.00549216],\n",
              "       [-4.10011567, -0.03448246],\n",
              "       [-4.08575874, -0.12688234],\n",
              "       [-3.30221576, -0.10494267],\n",
              "       [-3.49048375, -0.27741331],\n",
              "       [-2.35115649, -0.18717799],\n",
              "       [-1.64041486,  0.14660485],\n",
              "       [-1.12058091,  0.83469722],\n",
              "       [ 0.80929416, -1.03200519],\n",
              "       [ 0.22140861, -1.43998688],\n",
              "       [-0.01993148, -1.05542274],\n",
              "       [-1.37433327, -1.33546878],\n",
              "       [ 0.92925268, -0.9046906 ],\n",
              "       [ 2.24264047, -0.06799927],\n",
              "       [ 3.08100244, -0.49815859],\n",
              "       [ 0.74316949, -1.10853722],\n",
              "       [ 0.87511139, -0.45518845],\n",
              "       [-0.28946821, -0.88484183],\n",
              "       [-1.01619563,  1.10650782],\n",
              "       [ 0.02759499, -1.673313  ],\n",
              "       [ 0.30924565,  1.13360596],\n",
              "       [ 1.43573242, -0.42711667],\n",
              "       [ 2.31341122, -0.77639534],\n",
              "       [-3.06024024, -0.0898432 ],\n",
              "       [-2.54418462, -0.05933735],\n",
              "       [-2.20249659,  0.05888157],\n",
              "       [-3.21365616, -0.42502352],\n",
              "       [ 1.48307754, -0.56173973],\n",
              "       [ 3.92584066,  0.39180346],\n",
              "       [ 3.33548069, -0.5186831 ],\n",
              "       [ 2.20334291,  0.36327896],\n",
              "       [-0.95483488,  1.2061214 ],\n",
              "       [-1.11983213,  1.22058402],\n",
              "       [ 0.96521116, -0.61712301],\n",
              "       [-1.27779554,  1.08884844],\n",
              "       [ 0.57752714, -0.72676579],\n",
              "       [ 1.52058361, -0.50573651],\n",
              "       [-1.09946368,  0.60823612],\n",
              "       [-1.03304905,  0.55198728],\n",
              "       [ 0.42775104,  1.3004336 ],\n",
              "       [ 1.50970382, -0.21375009],\n",
              "       [ 0.91362039,  1.04309338],\n",
              "       [-3.29352722,  0.21383572],\n",
              "       [-1.77333336, -1.7051638 ],\n",
              "       [-0.30143625, -1.91278899],\n",
              "       [ 0.75610587, -1.6278831 ],\n",
              "       [-0.86730598, -0.27685837],\n",
              "       [-1.87073512, -0.73128397],\n",
              "       [-3.36933193,  0.00896269],\n",
              "       [-2.30343827, -0.0224814 ],\n",
              "       [ 0.84219663, -1.29357639],\n",
              "       [ 0.99147432,  0.59707647],\n",
              "       [ 0.26089828,  2.22453183],\n",
              "       [ 0.06591984,  1.75511731],\n",
              "       [ 1.49978729, -0.19016489],\n",
              "       [ 2.02714777,  0.21287414],\n",
              "       [ 0.32266832,  0.69684749],\n",
              "       [-2.11966452, -1.74849377],\n",
              "       [-0.57160475, -2.35351718],\n",
              "       [ 1.42366567,  1.08298333],\n",
              "       [ 3.87069402,  0.1084634 ],\n",
              "       [ 4.80106229,  0.40664488],\n",
              "       [ 3.2593643 ,  2.57801929],\n",
              "       [ 2.9405991 ,  0.37047781],\n",
              "       [-0.69684526,  1.06154497],\n",
              "       [-3.32163167, -0.3601883 ],\n",
              "       [ 1.50543955, -0.08615294],\n",
              "       [ 1.4936387 , -0.77484721],\n",
              "       [ 1.33208964, -1.13715553],\n",
              "       [-0.34109831, -0.23566595],\n",
              "       [-1.41238636,  0.0170329 ],\n",
              "       [-0.35577863,  0.29987601],\n",
              "       [-0.30627372,  1.40276236],\n",
              "       [-3.44571973,  0.10351037],\n",
              "       [-2.87751671,  0.34237907],\n",
              "       [-3.32328079,  0.33172755],\n",
              "       [-2.95479546, -0.47796038],\n",
              "       [-1.18279761, -2.43483687],\n",
              "       [-0.1497796 , -1.05949961],\n",
              "       [ 2.37281362, -0.36424391],\n",
              "       [ 3.43469803,  0.25554412],\n",
              "       [ 3.68220927,  0.42229132],\n",
              "       [ 1.66283776,  0.94303565],\n",
              "       [ 1.66562669,  1.75609361],\n",
              "       [ 1.71859505, -0.1071967 ],\n",
              "       [ 0.50656829, -1.01260207],\n",
              "       [-1.58880567, -1.15755049],\n",
              "       [-2.4072573 ,  0.25425489],\n",
              "       [ 0.55533231, -0.86309971],\n",
              "       [ 2.19077747, -0.03160261],\n",
              "       [ 0.98214736,  0.03561368],\n",
              "       [ 0.51752283,  1.31768866],\n",
              "       [-0.4455086 ,  0.76140885],\n",
              "       [ 1.94903597,  0.33362432],\n",
              "       [-0.68252008,  0.76053094],\n",
              "       [-1.21744379,  0.66726531],\n",
              "       [-1.88539537,  0.30313961],\n",
              "       [ 0.66753576, -0.69692766],\n",
              "       [ 0.28694034, -0.95531201],\n",
              "       [-0.08745016,  0.80603105],\n",
              "       [-2.04245581,  0.12936194],\n",
              "       [-1.4587773 , -0.573117  ],\n",
              "       [ 1.91805981, -1.15167381],\n",
              "       [ 1.52024133, -1.07203996],\n",
              "       [ 2.10981533, -0.34493361],\n",
              "       [ 3.57683164,  0.18482028],\n",
              "       [ 3.86453257,  0.32461246],\n",
              "       [ 0.05579823,  1.97473358],\n",
              "       [-1.21753872,  1.03710317],\n",
              "       [-0.32632435,  0.41507575],\n",
              "       [-0.55925255,  0.27258124],\n",
              "       [ 1.1682133 , -0.62716464],\n",
              "       [ 2.65625995, -0.03265598],\n",
              "       [ 1.354154  , -0.2856566 ],\n",
              "       [-1.75217116,  0.78936796],\n",
              "       [ 2.96704291, -0.18008053],\n",
              "       [ 3.30138446, -0.23838677],\n",
              "       [-1.49158412,  0.5202718 ],\n",
              "       [ 3.73763701, -0.03851206],\n",
              "       [-0.85753408,  1.23724154],\n",
              "       [ 1.52653052,  1.53101999],\n",
              "       [ 0.77505185,  0.85391979],\n",
              "       [-0.17559667,  0.85518163],\n",
              "       [-1.05038432, -0.31004342],\n",
              "       [-2.09478176,  0.03652297],\n",
              "       [ 0.49902596, -0.04784922],\n",
              "       [-3.96643246, -0.43309032],\n",
              "       [-1.71012115, -0.03826105],\n",
              "       [-1.43332779,  0.1377672 ],\n",
              "       [ 0.3871853 ,  0.90693709],\n",
              "       [-0.89378205,  0.90466829],\n",
              "       [ 1.33059293, -0.67369334],\n",
              "       [ 2.03955803, -0.6884264 ],\n",
              "       [ 4.37353616, -0.00973538],\n",
              "       [ 3.78921007,  0.76113396],\n",
              "       [ 3.78543339,  0.24636801],\n",
              "       [ 5.29111895,  0.92539294],\n",
              "       [ 4.1456431 ,  0.2504753 ],\n",
              "       [ 1.81540644, -0.48275127],\n",
              "       [ 0.11382929,  0.80050322],\n",
              "       [-1.3331762 ,  0.42518198],\n",
              "       [ 1.5804796 ,  0.47671752],\n",
              "       [ 1.92843962, -0.88151409],\n",
              "       [ 3.16590994, -0.75600133],\n",
              "       [ 1.622688  , -0.15331917],\n",
              "       [-1.06787728,  0.65963728],\n",
              "       [ 1.31625449,  0.32782751],\n",
              "       [ 2.53304662,  0.31103678],\n",
              "       [ 1.98653283,  0.97881343],\n",
              "       [-1.45503073, -0.12414462],\n",
              "       [-2.64054311,  0.87854093],\n",
              "       [-3.61975701, -0.17792297],\n",
              "       [ 2.04194673, -0.40526956],\n",
              "       [-0.21294347,  0.17149565],\n",
              "       [-2.10296129,  0.80108744],\n",
              "       [-0.3934351 ,  0.11786038],\n",
              "       [ 3.93344571,  0.56081797],\n",
              "       [ 4.30347747,  0.03012958],\n",
              "       [ 2.71900804,  1.18440401],\n",
              "       [ 2.18520929, -0.0590871 ],\n",
              "       [-0.94826633,  1.12064436],\n",
              "       [-3.35099394,  0.56807505],\n",
              "       [-0.11263024,  1.17570372],\n",
              "       [ 2.48302495,  0.26031791],\n",
              "       [ 3.12068775, -0.09599097],\n",
              "       [ 3.86154044, -0.30458468],\n",
              "       [ 4.46922926,  0.15494231],\n",
              "       [ 3.69854499,  0.01894856],\n",
              "       [ 1.836407  ,  1.2949872 ],\n",
              "       [-0.61475797,  0.4354146 ],\n",
              "       [-0.06945446,  0.79883996],\n",
              "       [-2.01404607,  0.06869212],\n",
              "       [ 1.79045574, -1.2452177 ],\n",
              "       [-3.76553468, -0.12358301],\n",
              "       [-4.24984938, -0.36610731],\n",
              "       [ 2.39411679, -0.81001975],\n",
              "       [ 2.04949828, -0.42477547],\n",
              "       [ 3.9511088 ,  0.05152203],\n",
              "       [-0.52819343,  0.45259165],\n",
              "       [ 2.30187334,  0.19485607],\n",
              "       [ 1.07607007, -0.06095159],\n",
              "       [-1.80600586,  0.58248756],\n",
              "       [ 1.12463612, -0.26963809],\n",
              "       [-2.30930893,  0.21698463],\n",
              "       [-1.02036497,  0.86426711],\n",
              "       [-0.71714393,  1.00492725],\n",
              "       [-3.21448   , -0.07311978],\n",
              "       [ 0.42490592, -1.28996526],\n",
              "       [-3.33322469,  0.27972211]])"
            ]
          },
          "metadata": {},
          "execution_count": 83
        }
      ]
    },
    {
      "cell_type": "code",
      "source": [
        "#plotting the principal compoennets together\n",
        "df_pca=pd.DataFrame(X_principal, columns=['Principal_Component 1'\n",
        ",'Principal Componete 2'])\n",
        "df_pca.head()"
      ],
      "metadata": {
        "colab": {
          "base_uri": "https://localhost:8080/",
          "height": 206
        },
        "id": "IjrbIAmoFBNv",
        "outputId": "7b04689b-7e1e-4b53-a19c-ce0ff9d24a32"
      },
      "execution_count": 84,
      "outputs": [
        {
          "output_type": "execute_result",
          "data": {
            "text/plain": [
              "   Principal_Component 1  Principal Componete 2\n",
              "0              -3.539089               0.323737\n",
              "1              -1.629213              -0.077960\n",
              "2               0.569394               0.680214\n",
              "3              -0.295743               1.301648\n",
              "4               2.059059              -0.036046"
            ],
            "text/html": [
              "\n",
              "  <div id=\"df-496dc7e4-d429-4163-af10-32ef8069b397\">\n",
              "    <div class=\"colab-df-container\">\n",
              "      <div>\n",
              "<style scoped>\n",
              "    .dataframe tbody tr th:only-of-type {\n",
              "        vertical-align: middle;\n",
              "    }\n",
              "\n",
              "    .dataframe tbody tr th {\n",
              "        vertical-align: top;\n",
              "    }\n",
              "\n",
              "    .dataframe thead th {\n",
              "        text-align: right;\n",
              "    }\n",
              "</style>\n",
              "<table border=\"1\" class=\"dataframe\">\n",
              "  <thead>\n",
              "    <tr style=\"text-align: right;\">\n",
              "      <th></th>\n",
              "      <th>Principal_Component 1</th>\n",
              "      <th>Principal Componete 2</th>\n",
              "    </tr>\n",
              "  </thead>\n",
              "  <tbody>\n",
              "    <tr>\n",
              "      <th>0</th>\n",
              "      <td>-3.539089</td>\n",
              "      <td>0.323737</td>\n",
              "    </tr>\n",
              "    <tr>\n",
              "      <th>1</th>\n",
              "      <td>-1.629213</td>\n",
              "      <td>-0.077960</td>\n",
              "    </tr>\n",
              "    <tr>\n",
              "      <th>2</th>\n",
              "      <td>0.569394</td>\n",
              "      <td>0.680214</td>\n",
              "    </tr>\n",
              "    <tr>\n",
              "      <th>3</th>\n",
              "      <td>-0.295743</td>\n",
              "      <td>1.301648</td>\n",
              "    </tr>\n",
              "    <tr>\n",
              "      <th>4</th>\n",
              "      <td>2.059059</td>\n",
              "      <td>-0.036046</td>\n",
              "    </tr>\n",
              "  </tbody>\n",
              "</table>\n",
              "</div>\n",
              "      <button class=\"colab-df-convert\" onclick=\"convertToInteractive('df-496dc7e4-d429-4163-af10-32ef8069b397')\"\n",
              "              title=\"Convert this dataframe to an interactive table.\"\n",
              "              style=\"display:none;\">\n",
              "        \n",
              "  <svg xmlns=\"http://www.w3.org/2000/svg\" height=\"24px\"viewBox=\"0 0 24 24\"\n",
              "       width=\"24px\">\n",
              "    <path d=\"M0 0h24v24H0V0z\" fill=\"none\"/>\n",
              "    <path d=\"M18.56 5.44l.94 2.06.94-2.06 2.06-.94-2.06-.94-.94-2.06-.94 2.06-2.06.94zm-11 1L8.5 8.5l.94-2.06 2.06-.94-2.06-.94L8.5 2.5l-.94 2.06-2.06.94zm10 10l.94 2.06.94-2.06 2.06-.94-2.06-.94-.94-2.06-.94 2.06-2.06.94z\"/><path d=\"M17.41 7.96l-1.37-1.37c-.4-.4-.92-.59-1.43-.59-.52 0-1.04.2-1.43.59L10.3 9.45l-7.72 7.72c-.78.78-.78 2.05 0 2.83L4 21.41c.39.39.9.59 1.41.59.51 0 1.02-.2 1.41-.59l7.78-7.78 2.81-2.81c.8-.78.8-2.07 0-2.86zM5.41 20L4 18.59l7.72-7.72 1.47 1.35L5.41 20z\"/>\n",
              "  </svg>\n",
              "      </button>\n",
              "      \n",
              "  <style>\n",
              "    .colab-df-container {\n",
              "      display:flex;\n",
              "      flex-wrap:wrap;\n",
              "      gap: 12px;\n",
              "    }\n",
              "\n",
              "    .colab-df-convert {\n",
              "      background-color: #E8F0FE;\n",
              "      border: none;\n",
              "      border-radius: 50%;\n",
              "      cursor: pointer;\n",
              "      display: none;\n",
              "      fill: #1967D2;\n",
              "      height: 32px;\n",
              "      padding: 0 0 0 0;\n",
              "      width: 32px;\n",
              "    }\n",
              "\n",
              "    .colab-df-convert:hover {\n",
              "      background-color: #E2EBFA;\n",
              "      box-shadow: 0px 1px 2px rgba(60, 64, 67, 0.3), 0px 1px 3px 1px rgba(60, 64, 67, 0.15);\n",
              "      fill: #174EA6;\n",
              "    }\n",
              "\n",
              "    [theme=dark] .colab-df-convert {\n",
              "      background-color: #3B4455;\n",
              "      fill: #D2E3FC;\n",
              "    }\n",
              "\n",
              "    [theme=dark] .colab-df-convert:hover {\n",
              "      background-color: #434B5C;\n",
              "      box-shadow: 0px 1px 3px 1px rgba(0, 0, 0, 0.15);\n",
              "      filter: drop-shadow(0px 1px 2px rgba(0, 0, 0, 0.3));\n",
              "      fill: #FFFFFF;\n",
              "    }\n",
              "  </style>\n",
              "\n",
              "      <script>\n",
              "        const buttonEl =\n",
              "          document.querySelector('#df-496dc7e4-d429-4163-af10-32ef8069b397 button.colab-df-convert');\n",
              "        buttonEl.style.display =\n",
              "          google.colab.kernel.accessAllowed ? 'block' : 'none';\n",
              "\n",
              "        async function convertToInteractive(key) {\n",
              "          const element = document.querySelector('#df-496dc7e4-d429-4163-af10-32ef8069b397');\n",
              "          const dataTable =\n",
              "            await google.colab.kernel.invokeFunction('convertToInteractive',\n",
              "                                                     [key], {});\n",
              "          if (!dataTable) return;\n",
              "\n",
              "          const docLinkHtml = 'Like what you see? Visit the ' +\n",
              "            '<a target=\"_blank\" href=https://colab.research.google.com/notebooks/data_table.ipynb>data table notebook</a>'\n",
              "            + ' to learn more about interactive tables.';\n",
              "          element.innerHTML = '';\n",
              "          dataTable['output_type'] = 'display_data';\n",
              "          await google.colab.output.renderOutput(dataTable, element);\n",
              "          const docLink = document.createElement('div');\n",
              "          docLink.innerHTML = docLinkHtml;\n",
              "          element.appendChild(docLink);\n",
              "        }\n",
              "      </script>\n",
              "    </div>\n",
              "  </div>\n",
              "  "
            ]
          },
          "metadata": {},
          "execution_count": 84
        }
      ]
    },
    {
      "cell_type": "code",
      "source": [
        "#plotting the pc1 and pc2\n",
        "plt.rcParams['figure.figsize']=8,6\n",
        "plt.rcParams['font.size']=14\n",
        "ax1=df_pca.plot.scatter(x='Principal_Component 1',\n",
        "                        y='Principal Componete 2',c='blue')\n",
        "plt.title(\"Scatter Plot of Principal Components\")"
      ],
      "metadata": {
        "colab": {
          "base_uri": "https://localhost:8080/",
          "height": 427
        },
        "id": "wmKcfdiJFBRK",
        "outputId": "78053c40-6d44-422d-f852-343eae3fd690"
      },
      "execution_count": 85,
      "outputs": [
        {
          "output_type": "execute_result",
          "data": {
            "text/plain": [
              "Text(0.5, 1.0, 'Scatter Plot of Principal Components')"
            ]
          },
          "metadata": {},
          "execution_count": 85
        },
        {
          "output_type": "display_data",
          "data": {
            "text/plain": [
              "<Figure size 576x432 with 1 Axes>"
            ],
            "image/png": "[encoded data removed]"
          },
          "metadata": {}
        }
      ]
    },
    {
      "cell_type": "code",
      "source": [
        "#selecting the right data\n",
        "final_data = Df_features.select('features', 'Chance of Admit ')\n",
        "final_data.printSchema()"
      ],
      "metadata": {
        "colab": {
          "base_uri": "https://localhost:8080/"
        },
        "id": "CgTctPLEFBTx",
        "outputId": "9335b749-3c7c-46d6-86ef-5ea973113a5e"
      },
      "execution_count": 86,
      "outputs": [
        {
          "output_type": "stream",
          "name": "stdout",
          "text": [
            "root\n",
            " |-- features: vector (nullable = true)\n",
            " |-- Chance of Admit : double (nullable = true)\n",
            "\n"
          ]
        }
      ]
    },
    {
      "cell_type": "code",
      "source": [
        "#splitting the data into two parts\n",
        "train_data,test_data= final_data.randomSplit([0.90,0.1])"
      ],
      "metadata": {
        "id": "k6wBt5mBFBXF"
      },
      "execution_count": 88,
      "outputs": []
    },
    {
      "cell_type": "code",
      "source": [
        "#Fit model for linear regression\n",
        "reg_model=LinearRegression(featuresCol='features',labelCol='Chance of Admit ')\n",
        "reg_model=reg_model.fit(train_data)"
      ],
      "metadata": {
        "id": "ofDL_pITHbyJ"
      },
      "execution_count": 90,
      "outputs": []
    },
    {
      "cell_type": "code",
      "source": [
        "#Find out model coefficients and intercept\n",
        "coefficient_vals = reg_model.coefficients\n",
        "intercept_vals = reg_model.intercept\n",
        "\n",
        "print(f\"The Coefficient values for the regression model are: {coefficient_vals}\")\n",
        "print(f\"The Intercept values for the regression model are: {intercept_vals}\")"
      ],
      "metadata": {
        "colab": {
          "base_uri": "https://localhost:8080/"
        },
        "id": "8vhKMBP3Hl6G",
        "outputId": "107c320e-51c6-4a0b-fc82-c1ed8f9b57e5"
      },
      "execution_count": 107,
      "outputs": [
        {
          "output_type": "stream",
          "name": "stdout",
          "text": [
            "The Coefficient values for the regression model are: [0.001677714503090732,0.003251835196091112,0.005436313358496859,-0.0045267259585879,0.024776325906080175,0.114780678422127,0.026771579704562436]\n",
            "The Intercept values for the regression model are: -1.2446858957964066\n"
          ]
        }
      ]
    },
    {
      "cell_type": "code",
      "source": [
        "#testing the model\n",
        "y_prediction = reg_model.evaluate(test_data)\n",
        "y_prediction.predictions.show(10)"
      ],
      "metadata": {
        "colab": {
          "base_uri": "https://localhost:8080/"
        },
        "id": "Qi_p524DHxCf",
        "outputId": "e24d13aa-07f9-4a87-d7cf-7d9f3ccda607"
      },
      "execution_count": 92,
      "outputs": [
        {
          "output_type": "stream",
          "name": "stdout",
          "text": [
            "+--------------------+----------------+------------------+\n",
            "|            features|Chance of Admit |        prediction|\n",
            "+--------------------+----------------+------------------+\n",
            "|[296.0,99.0,2.0,2...|            0.61|0.5570347558468742|\n",
            "|[297.0,96.0,2.0,2...|            0.43|0.5081113438765137|\n",
            "|[298.0,98.0,2.0,1...|            0.44|0.5276028957563876|\n",
            "|[302.0,99.0,2.0,1...|            0.56|0.5546161281449327|\n",
            "|[308.0,108.0,3.0,...|            0.61|0.6539280888549761|\n",
            "|[310.0,103.0,2.0,...|            0.72|0.6176340421431556|\n",
            "|[311.0,104.0,3.0,...|            0.61|0.6332653688568837|\n",
            "|[314.0,106.0,3.0,...|            0.74|0.7749694186467992|\n",
            "|[315.0,103.0,1.0,...|            0.57|0.5691082065052522|\n",
            "|[315.0,105.0,2.0,...|            0.39|0.5670690477610305|\n",
            "+--------------------+----------------+------------------+\n",
            "only showing top 10 rows\n",
            "\n"
          ]
        }
      ]
    },
    {
      "cell_type": "code",
      "source": [
        "#Calculating the model statistics\n",
        "reg_evaluator=RegressionEvaluator(labelCol='Chance of Admit ',\n",
        "                                  predictionCol='prediction',metricName='rmse')\n",
        "\n",
        "Rmse = reg_evaluator.evaluate(y_prediction.predictions)\n",
        "print(f\"The value of Root Means Square Error is : {Rmse}\")\n",
        "\n",
        "Mse=reg_evaluator.evaluate(y_prediction.predictions,{reg_evaluator.metricName:\"mse\"})\n",
        "print(f\"The value of Means Square Error is : {Mse}\")\n",
        "\n",
        "Mae=reg_evaluator.evaluate(y_prediction.predictions,{reg_evaluator.metricName:\"mae\"})\n",
        "print(f\"The value of Mean Absolute Error is : {Mae}\")\n",
        "\n",
        "r2=reg_evaluator.evaluate(y_prediction.predictions,{reg_evaluator.metricName:\"r2\"})\n",
        "print(f\"The accuracy score is : {r2}\")"
      ],
      "metadata": {
        "colab": {
          "base_uri": "https://localhost:8080/"
        },
        "id": "s6uzq4ekH5am",
        "outputId": "5e64f1ff-9ea5-46b9-8483-0ef3bb9993ec"
      },
      "execution_count": 93,
      "outputs": [
        {
          "output_type": "stream",
          "name": "stdout",
          "text": [
            "The value of Root Means Square Error is : 0.06300420789196029\n",
            "The value of Means Square Error is : 0.003969530212093351\n",
            "The value of Mean Absolute Error is : 0.046175563376628675\n",
            "The accuracy score is : 0.836016809121241\n"
          ]
        }
      ]
    }
  ]
}